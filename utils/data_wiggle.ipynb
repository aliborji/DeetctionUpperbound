{
 "cells": [
  {
   "cell_type": "code",
   "execution_count": 56,
   "metadata": {},
   "outputs": [],
   "source": [
    "import json\n",
    "import pickle\n",
    "\n",
    "# VOC\n",
    "with open('../datasets/voc/annotations/pascal_trainval0712.json') as json_file:\n",
    "# with open('../datasets/voc/annotations/pascal_test2007.json') as json_file:    \n",
    "     data = json.load(json_file)\n",
    "\n",
    "# # Markable    \n",
    "# with open('../datasets/markable/annotations/markable_trainval.json') as json_file:\n",
    "#     data = json.load(json_file)\n",
    "    \n",
    "\n",
    "# COCO\n",
    "# with open('../datasets/coco/annotations/instances_train2017.json') as json_file:\n",
    "#     data = json.load(json_file)\n",
    "        "
   ]
  },
  {
   "cell_type": "code",
   "execution_count": 53,
   "metadata": {},
   "outputs": [
    {
     "data": {
      "text/plain": [
       "236115"
      ]
     },
     "execution_count": 53,
     "metadata": {},
     "output_type": "execute_result"
    }
   ],
   "source": [
    "# data['annotations'][120]\n",
    "len(data['annotations'])*5"
   ]
  },
  {
   "cell_type": "code",
   "execution_count": null,
   "metadata": {},
   "outputs": [],
   "source": [
    "del new_data"
   ]
  },
  {
   "cell_type": "code",
   "execution_count": 3,
   "metadata": {},
   "outputs": [
    {
     "data": {
      "text/plain": [
       "[454, 40, 8, 16]"
      ]
     },
     "execution_count": 3,
     "metadata": {},
     "output_type": "execute_result"
    }
   ],
   "source": [
    "np.array(bbox).astype('int').tolist()"
   ]
  },
  {
   "cell_type": "code",
   "execution_count": 5,
   "metadata": {},
   "outputs": [
    {
     "data": {
      "text/plain": [
       "array([0.66666667, 0.86666667])"
      ]
     },
     "execution_count": 5,
     "metadata": {},
     "output_type": "execute_result"
    }
   ],
   "source": [
    "np.arange(0.2, 1, 0.2)\n",
    "ratios"
   ]
  },
  {
   "cell_type": "code",
   "execution_count": 57,
   "metadata": {},
   "outputs": [],
   "source": [
    "import numpy as np\n",
    "new_data = []\n",
    "# ratios = np.arange(2/3, .9, 0.2) #[2/3, 3/4, 4/5, 5/6, 6/7, 7/8, 8/9]\n",
    "ratios = np.arange(6/7, .9, 0.1) #[2/3, 3/4, 4/5, 5/6, 6/7, 7/8, 8/9]  IOU = 3/4  \n",
    "\n",
    "    \n",
    "for d in data['annotations']:\n",
    "    d['segmentation'] = []\n",
    "    new_data.append(d)\n",
    "    bbox = d['bbox']\n",
    "    bbox =np.array(bbox).astype('int').tolist()    \n",
    "#     first_top_left, second_top_left, third_top_left,forth_top_left = [],[],[],[]\n",
    "    count = 0\n",
    "#     for i in np.arange(0.2, 1, 0.2): # for IOU = 1/2\n",
    "    for i in np.arange(0.05, 1, 0.08):  # for IOU = 3/4      \n",
    "        for j in ratios: #np.arange(0.01, 1.01, 0.01): \n",
    "            k = j /i\n",
    "            if (k>0  and k <=1):\n",
    "#                 first_top_left.append([(i-1) *bbox[2] + bbox[0],(k-1) * bbox [3]+ bbox[1], bbox[2], bbox[3]])\n",
    "#                 second_top_left.append([(1-i)*bbox[2] + bbox[0],(k-1) * bbox [3]+ bbox[1], bbox[2], bbox[3]]) \n",
    "#                 third_top_left.append([(1-i) *bbox[2] + bbox[0],(1-k) * bbox [3]+ bbox[1], bbox[2], bbox[3]])\n",
    "#                 forth_top_left.append([(i-1) *bbox[2] + bbox[0],(1-k) * bbox [3]+ bbox[1], bbox[2], bbox[3]])\n",
    "                d2 = d.copy()\n",
    "                d2['bbox'] = [(i-1) *bbox[2] + bbox[0],(k-1) * bbox [3]+ bbox[1], bbox[2], bbox[3]]\n",
    "#                 import pdb; pdb.set_trace()\n",
    "#                 if np.min(d2['bbox']) >= 0:\n",
    "                new_data.append(d2)\n",
    "    \n",
    "                d2 = d.copy()\n",
    "                d2['bbox'] = [(1-i) *bbox[2] + bbox[0],(k-1) * bbox [3]+ bbox[1], bbox[2], bbox[3]]\n",
    "#                 if np.min(d2['bbox']) >= 0:\n",
    "                new_data.append(d2)\n",
    "    \n",
    "                d2 = d.copy()\n",
    "                d2['bbox'] = [(1-i) *bbox[2] + bbox[0],(1-k) * bbox [3]+ bbox[1], bbox[2], bbox[3]]\n",
    "#                 if np.min(d2['bbox']) >= 0:\n",
    "                new_data.append(d2)\n",
    "    \n",
    "                d2 = d.copy()\n",
    "                d2['bbox'] = [(i-1) *bbox[2] + bbox[0],(1-k) * bbox [3]+ bbox[1], bbox[2], bbox[3]]\n",
    "#                 if np.min(d2['bbox']) >= 0:\n",
    "                new_data.append(d2)\n",
    "            count += 1\n",
    "        \n",
    "#     print(count)"
   ]
  },
  {
   "cell_type": "code",
   "execution_count": 39,
   "metadata": {},
   "outputs": [],
   "source": [
    "# new_data\n",
    "# np.min(d2['bbox']) >= 0\n",
    "\n",
    "data['annotations'] = new_data\n",
    "# with open('../datasets/voc/annotations/pascal_trainval0712_extended_IOU85.json', 'w') as json_file:\n",
    "#     json.dump(data, json_file)\n",
    "\n",
    "with open('../datasets/voc/annotations/pascal_test2007_extended.json', 'w') as json_file:\n",
    "     json.dump(data, json_file)\n",
    "\n",
    "\n",
    "#MARKABLE\n",
    "# with open('../datasets/markable/annotations/markable_trainval_extended_IOU85.json', 'w') as json_file:\n",
    "#     json.dump(data, json_file)\n",
    "\n",
    "# COCO\n",
    "# with open('../datasets/coco/annotations/instances_train2017_extended_IOU85.json', 'w') as json_file:\n",
    "#     json.dump(data, json_file)\n",
    "    \n",
    "    "
   ]
  },
  {
   "cell_type": "code",
   "execution_count": null,
   "metadata": {},
   "outputs": [],
   "source": [
    "new_data[1]"
   ]
  },
  {
   "cell_type": "code",
   "execution_count": null,
   "metadata": {},
   "outputs": [],
   "source": [
    "new_data[2]"
   ]
  },
  {
   "cell_type": "code",
   "execution_count": null,
   "metadata": {},
   "outputs": [],
   "source": [
    "new_data[3]"
   ]
  },
  {
   "cell_type": "code",
   "execution_count": null,
   "metadata": {},
   "outputs": [],
   "source": [
    "new_data[101]"
   ]
  },
  {
   "cell_type": "code",
   "execution_count": 58,
   "metadata": {},
   "outputs": [
    {
     "data": {
      "text/plain": [
       "47223"
      ]
     },
     "execution_count": 58,
     "metadata": {},
     "output_type": "execute_result"
    }
   ],
   "source": [
    "len(data['annotations'])"
   ]
  },
  {
   "cell_type": "code",
   "execution_count": null,
   "metadata": {},
   "outputs": [],
   "source": [
    "len(new_data)"
   ]
  },
  {
   "cell_type": "code",
   "execution_count": 10,
   "metadata": {},
   "outputs": [
    {
     "data": {
      "text/plain": [
       "0.8571428571428571"
      ]
     },
     "execution_count": 10,
     "metadata": {},
     "output_type": "execute_result"
    }
   ],
   "source": [
    "6/7"
   ]
  },
  {
   "cell_type": "code",
   "execution_count": 47,
   "metadata": {},
   "outputs": [
    {
     "data": {
      "text/plain": [
       "8"
      ]
     },
     "execution_count": 47,
     "metadata": {},
     "output_type": "execute_result"
    }
   ],
   "source": [
    "count"
   ]
  },
  {
   "cell_type": "code",
   "execution_count": null,
   "metadata": {},
   "outputs": [],
   "source": []
  }
 ],
 "metadata": {
  "kernelspec": {
   "display_name": "Python 3",
   "language": "python",
   "name": "python3"
  },
  "language_info": {
   "codemirror_mode": {
    "name": "ipython",
    "version": 3
   },
   "file_extension": ".py",
   "mimetype": "text/x-python",
   "name": "python",
   "nbconvert_exporter": "python",
   "pygments_lexer": "ipython3",
   "version": "3.6.9"
  }
 },
 "nbformat": 4,
 "nbformat_minor": 4
}
